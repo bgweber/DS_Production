{
 "cells": [
  {
   "cell_type": "markdown",
   "metadata": {},
   "source": [
    "# 5.1 Sklearn Workflow"
   ]
  },
  {
   "cell_type": "code",
   "execution_count": 1,
   "metadata": {},
   "outputs": [
    {
     "name": "stdout",
     "output_type": "stream",
     "text": [
      "Writing scripts/containers/sklearn_pipeline/pipeline.py\n"
     ]
    }
   ],
   "source": [
    "%%file scripts/containers/sklearn_pipeline/pipeline.py\n",
    "import os\n",
    "import datetime\n",
    "import pandas as pd\n",
    "import numpy as np\n",
    "import pandas_gbq as gbq\n",
    "from google.oauth2 import service_account\n",
    "from sklearn.linear_model import LogisticRegression\n",
    "\n",
    "\n",
    "# fetch the data set and add IDs \n",
    "games_df = pd.read_csv(\"https://github.com/bgweber/Twitch/raw/master/Recommendations/games-expand.csv\")\n",
    "games_df['user_id'] = games_df.index \n",
    "games_df['new_user'] = np.random.choice([0, 1], size=len(games_df), p=[0.9, 0.1])\n",
    "\n",
    "# train and test groups \n",
    "train = games_df.query(\"new_user == 0\")\n",
    "x_train = train.drop(columns=['label', 'user_id', 'new_user'])\n",
    "y_train = train['label']\n",
    "test = games_df.query(\"new_user == 1\")\n",
    "x_test = test.drop(columns=['label', 'user_id', 'new_user'])\n",
    "\n",
    "# build a model\n",
    "model = LogisticRegression()\n",
    "model.fit(x_train, y_train)\n",
    "y_pred = model.predict_proba(x_test)[:, 1]\n",
    "\n",
    "# build a predictions data frame\n",
    "result_df = pd.DataFrame({'user_id': test['user_id'], \n",
    "                          'pred': y_pred,\n",
    "                          'time': str(datetime.datetime.now())})\n",
    "\n",
    "# save predictions to BigQuery \n",
    "table_id = \"dsp_demo.user_scores\"\n",
    "project_id = os.environ['GOOGLE_PROJECT_ID']\n",
    "credentials = service_account.Credentials.from_service_account_file(\n",
    "    os.environ['GOOGLE_APPLICATION_CREDENTIALS']\n",
    ")\n",
    "gbq.to_gbq(dataframe=result_df, \n",
    "           destination_table=table_id, \n",
    "           project_id=project_id, \n",
    "           if_exists='replace',\n",
    "           credentials=credentials)"
   ]
  },
  {
   "cell_type": "code",
   "execution_count": 2,
   "metadata": {},
   "outputs": [
    {
     "name": "stderr",
     "output_type": "stream",
     "text": [
      "Downloading: 100%|██████████| 2304/2304 [00:00<00:00, 6526.72rows/s]\n"
     ]
    },
    {
     "data": {
      "text/html": [
       "<div>\n",
       "<style scoped>\n",
       "    .dataframe tbody tr th:only-of-type {\n",
       "        vertical-align: middle;\n",
       "    }\n",
       "\n",
       "    .dataframe tbody tr th {\n",
       "        vertical-align: top;\n",
       "    }\n",
       "\n",
       "    .dataframe thead th {\n",
       "        text-align: right;\n",
       "    }\n",
       "</style>\n",
       "<table border=\"1\" class=\"dataframe\">\n",
       "  <thead>\n",
       "    <tr style=\"text-align: right;\">\n",
       "      <th></th>\n",
       "      <th>user_id</th>\n",
       "      <th>pred</th>\n",
       "      <th>time</th>\n",
       "    </tr>\n",
       "  </thead>\n",
       "  <tbody>\n",
       "    <tr>\n",
       "      <th>0</th>\n",
       "      <td>2659</td>\n",
       "      <td>0.054512</td>\n",
       "      <td>2020-08-03 07:35:44.238809</td>\n",
       "    </tr>\n",
       "    <tr>\n",
       "      <th>1</th>\n",
       "      <td>3470</td>\n",
       "      <td>0.054512</td>\n",
       "      <td>2020-08-03 07:35:44.238809</td>\n",
       "    </tr>\n",
       "    <tr>\n",
       "      <th>2</th>\n",
       "      <td>4680</td>\n",
       "      <td>0.054512</td>\n",
       "      <td>2020-08-03 07:35:44.238809</td>\n",
       "    </tr>\n",
       "    <tr>\n",
       "      <th>3</th>\n",
       "      <td>5841</td>\n",
       "      <td>0.054512</td>\n",
       "      <td>2020-08-03 07:35:44.238809</td>\n",
       "    </tr>\n",
       "    <tr>\n",
       "      <th>4</th>\n",
       "      <td>6881</td>\n",
       "      <td>0.054512</td>\n",
       "      <td>2020-08-03 07:35:44.238809</td>\n",
       "    </tr>\n",
       "  </tbody>\n",
       "</table>\n",
       "</div>"
      ],
      "text/plain": [
       "   user_id      pred                        time\n",
       "0     2659  0.054512  2020-08-03 07:35:44.238809\n",
       "1     3470  0.054512  2020-08-03 07:35:44.238809\n",
       "2     4680  0.054512  2020-08-03 07:35:44.238809\n",
       "3     5841  0.054512  2020-08-03 07:35:44.238809\n",
       "4     6881  0.054512  2020-08-03 07:35:44.238809"
      ]
     },
     "execution_count": 2,
     "metadata": {},
     "output_type": "execute_result"
    }
   ],
   "source": [
    "import os\n",
    "import pandas_gbq as gbq\n",
    "from google.oauth2 import service_account\n",
    "\n",
    "\n",
    "project_id = os.environ['GOOGLE_PROJECT_ID']\n",
    "credentials = service_account.Credentials.from_service_account_file(\n",
    "    os.environ['GOOGLE_APPLICATION_CREDENTIALS']\n",
    ")\n",
    "\n",
    "sql = \"SELECT * FROM dsp_demo.user_scores\"\n",
    "df = gbq.read_gbq(query=sql, \n",
    "                  project_id=project_id, \n",
    "                  credentials=credentials)\n",
    "df.head()"
   ]
  },
  {
   "cell_type": "code",
   "execution_count": 3,
   "metadata": {},
   "outputs": [
    {
     "data": {
      "text/html": [
       "<div>\n",
       "<style scoped>\n",
       "    .dataframe tbody tr th:only-of-type {\n",
       "        vertical-align: middle;\n",
       "    }\n",
       "\n",
       "    .dataframe tbody tr th {\n",
       "        vertical-align: top;\n",
       "    }\n",
       "\n",
       "    .dataframe thead th {\n",
       "        text-align: right;\n",
       "    }\n",
       "</style>\n",
       "<table border=\"1\" class=\"dataframe\">\n",
       "  <thead>\n",
       "    <tr style=\"text-align: right;\">\n",
       "      <th></th>\n",
       "      <th>user_id</th>\n",
       "      <th>pred</th>\n",
       "      <th>time</th>\n",
       "    </tr>\n",
       "  </thead>\n",
       "  <tbody>\n",
       "    <tr>\n",
       "      <th>0</th>\n",
       "      <td>2659</td>\n",
       "      <td>0.054512</td>\n",
       "      <td>2020-08-03 07:35:44.238809</td>\n",
       "    </tr>\n",
       "    <tr>\n",
       "      <th>1</th>\n",
       "      <td>3470</td>\n",
       "      <td>0.054512</td>\n",
       "      <td>2020-08-03 07:35:44.238809</td>\n",
       "    </tr>\n",
       "    <tr>\n",
       "      <th>2</th>\n",
       "      <td>4680</td>\n",
       "      <td>0.054512</td>\n",
       "      <td>2020-08-03 07:35:44.238809</td>\n",
       "    </tr>\n",
       "    <tr>\n",
       "      <th>3</th>\n",
       "      <td>5841</td>\n",
       "      <td>0.054512</td>\n",
       "      <td>2020-08-03 07:35:44.238809</td>\n",
       "    </tr>\n",
       "    <tr>\n",
       "      <th>4</th>\n",
       "      <td>6881</td>\n",
       "      <td>0.054512</td>\n",
       "      <td>2020-08-03 07:35:44.238809</td>\n",
       "    </tr>\n",
       "  </tbody>\n",
       "</table>\n",
       "</div>"
      ],
      "text/plain": [
       "   user_id      pred                        time\n",
       "0     2659  0.054512  2020-08-03 07:35:44.238809\n",
       "1     3470  0.054512  2020-08-03 07:35:44.238809\n",
       "2     4680  0.054512  2020-08-03 07:35:44.238809\n",
       "3     5841  0.054512  2020-08-03 07:35:44.238809\n",
       "4     6881  0.054512  2020-08-03 07:35:44.238809"
      ]
     },
     "execution_count": 3,
     "metadata": {},
     "output_type": "execute_result"
    }
   ],
   "source": [
    "from google.cloud import bigquery\n",
    "\n",
    "client = bigquery.Client()\n",
    "sql = \"select * from dsp_demo.user_scores\"\n",
    "client.query(sql).to_dataframe().head()"
   ]
  },
  {
   "cell_type": "markdown",
   "metadata": {},
   "source": [
    "# 5.2 Cron"
   ]
  },
  {
   "cell_type": "markdown",
   "metadata": {},
   "source": [
    "# 5.3 Workflow Tools"
   ]
  },
  {
   "cell_type": "markdown",
   "metadata": {},
   "source": [
    "## Apache Airflow"
   ]
  },
  {
   "cell_type": "code",
   "execution_count": 1,
   "metadata": {},
   "outputs": [
    {
     "name": "stdout",
     "output_type": "stream",
     "text": [
      "Writing scripts/airflow/sklearn.py\n"
     ]
    }
   ],
   "source": [
    "%%file scripts/airflow/sklearn.py\n",
    "import os\n",
    "import datetime\n",
    "\n",
    "from airflow import DAG\n",
    "from airflow.operators.bash_operator import BashOperator\n",
    "from airflow.utils.dates import days_ago\n",
    "\n",
    "default_args = {\n",
    "    'owner': 'Airflow',\n",
    "    'depends_on_past': False,\n",
    "    'email': os.environ['FAILURE_EMAIL'],\n",
    "    'start_date': days_ago(0),\n",
    "    'email_on_failure': True,\n",
    "}\n",
    "\n",
    "dag = DAG(\n",
    "    dag_id='games', \n",
    "    default_args=default_args, \n",
    "    schedule_interval=\"* * * * *\"\n",
    ")\n",
    "\n",
    "t1 = BashOperator(\n",
    "    task_id='sklearn_pipeline',\n",
    "    bash_command='sudo docker run sklearn_pipeline',\n",
    "    dag=dag\n",
    ")"
   ]
  },
  {
   "cell_type": "code",
   "execution_count": 2,
   "metadata": {},
   "outputs": [
    {
     "name": "stdout",
     "output_type": "stream",
     "text": [
      "Writing scripts/airflow/sklearn_docker.py\n"
     ]
    }
   ],
   "source": [
    "%%file scripts/airflow/sklearn_docker.py\n",
    "import os\n",
    "import datetime\n",
    "\n",
    "from airflow import DAG\n",
    "from airflow.operators.docker_operator import DockerOperator\n",
    "from airflow.utils.dates import days_ago\n",
    "\n",
    "default_args = {\n",
    "    'owner': 'Airflow',\n",
    "    'depends_on_past': False,\n",
    "    'email': os.environ['FAILURE_EMAIL'],\n",
    "    'start_date': days_ago(0),\n",
    "    'email_on_failure': True,\n",
    "}\n",
    "\n",
    "dag = DAG(\n",
    "    dag_id='games_docker', \n",
    "    default_args=default_args, \n",
    "    schedule_interval=\"* * * * *\"\n",
    ")\n",
    "\n",
    "t1 = DockerOperator(\n",
    "    task_id='sklearn_pipeline',\n",
    "    image='sklearn_pipeline',\n",
    "    dag=dag\n",
    ")"
   ]
  },
  {
   "cell_type": "markdown",
   "metadata": {},
   "source": [
    "## Managed Airflow"
   ]
  },
  {
   "cell_type": "code",
   "execution_count": 2,
   "metadata": {},
   "outputs": [
    {
     "name": "stdout",
     "output_type": "stream",
     "text": [
      "Writing scripts/airflow/sklearn_gke.py\n"
     ]
    }
   ],
   "source": [
    "%%file scripts/airflow/sklearn_gke.py\n",
    "import os\n",
    "import datetime\n",
    "\n",
    "from airflow import DAG\n",
    "from airflow.contrib.operators.gcp_container_operator import GKEPodOperator\n",
    "from airflow.utils.dates import days_ago\n",
    "\n",
    "default_args = {\n",
    "    'owner': 'Airflow',\n",
    "    'depends_on_past': False,\n",
    "    'email': os.environ['GOOGLE_FAILURE_EMAIL'],\n",
    "    'start_date': days_ago(0),\n",
    "    'email_on_failure': True,\n",
    "}\n",
    "\n",
    "dag = DAG(\n",
    "    dag_id='games_docker', \n",
    "    default_args=default_args, \n",
    "    schedule_interval=\"* * * * *\"\n",
    ")\n",
    "\n",
    "t1 = GKEPodOperator(\n",
    "    task_id='sklearn_pipeline',\n",
    "    project_id=os.environ['GOOGLE_PROJECT_ID'],\n",
    "    cluster_name=os.environ['GOOGLE_GKE_CLUSTER_NAME'],\n",
    "    name='sklearn-pipeline',\n",
    "    namespace='default',\n",
    "    location=os.environ['GOOGLE_GKE_CLUSTER_LOCATION'],\n",
    "    image=f\"us.gcr.io/{os.environ['GOOGLE_PROJECT_ID']}/sklearn_pipeline\",\n",
    "    dag=dag\n",
    ")"
   ]
  },
  {
   "cell_type": "code",
   "execution_count": null,
   "metadata": {},
   "outputs": [],
   "source": []
  }
 ],
 "metadata": {
  "kernelspec": {
   "display_name": "Python 3",
   "language": "python",
   "name": "python3"
  },
  "language_info": {
   "codemirror_mode": {
    "name": "ipython",
    "version": 3
   },
   "file_extension": ".py",
   "mimetype": "text/x-python",
   "name": "python",
   "nbconvert_exporter": "python",
   "pygments_lexer": "ipython3",
   "version": "3.6.11"
  }
 },
 "nbformat": 4,
 "nbformat_minor": 4
}
