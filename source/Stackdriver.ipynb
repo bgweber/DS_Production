{
 "cells": [
  {
   "cell_type": "markdown",
   "metadata": {},
   "source": [
    "# Initial Endpoint"
   ]
  },
  {
   "cell_type": "code",
   "execution_count": null,
   "metadata": {},
   "outputs": [],
   "source": [
    "\n",
    "import pandas as pd\n",
    "from sklearn.linear_model import LogisticRegression\n",
    "import flask\n",
    "\n",
    "df = pd.read_csv(\"https://github.com/bgweber/Twitch/raw/master/Recommendations/games-expand.csv\")\n",
    "model = LogisticRegression()\n",
    "model.fit(df.drop(['label'], axis=1), df['label'])\n",
    "\n",
    "app = flask.Flask(__name__)\n",
    "\n",
    "@app.route(\"/\", methods=[\"GET\",\"POST\"])\n",
    "def predict():\n",
    "    data = {\"success\": False}\n",
    "    \n",
    "    params = flask.request.json\n",
    "    if params is None:\n",
    "        params = flask.request.args\n",
    "\n",
    "    if \"G1\" in params.keys(): \n",
    "        new_row = { \"G1\": params.get(\"G1\"), \"G2\": params.get(\"G2\"), \n",
    "                    \"G3\": params.get(\"G3\"), \"G4\": params.get(\"G4\"), \n",
    "                    \"G5\": params.get(\"G5\"), \"G6\": params.get(\"G6\"), \n",
    "                    \"G7\": params.get(\"G7\"), \"G8\": params.get(\"G8\"), \n",
    "                    \"G9\": params.get(\"G9\"), \"G10\": params.get(\"G10\") }\n",
    "\n",
    "        new_x = pd.DataFrame.from_dict(new_row, orient = \"index\").transpose()                \n",
    "        data[\"response\"] = str(model.predict_proba(new_x)[0][1])\n",
    "        data[\"success\"] = True\n",
    "\n",
    "    return flask.jsonify(data)\n",
    "\n",
    "if __name__ == '__main__':\n",
    "    app.run(host='0.0.0.0')"
   ]
  },
  {
   "cell_type": "markdown",
   "metadata": {},
   "source": [
    "# Production Endpoint"
   ]
  },
  {
   "cell_type": "code",
   "execution_count": null,
   "metadata": {},
   "outputs": [],
   "source": [
    "from google.cloud import monitoring_v3\n",
    "from google.oauth2 import service_account\n",
    "from google.cloud import logging\n",
    "import socket    \n",
    "import random\n",
    "import time\n",
    "import pandas as pd\n",
    "from sklearn.linear_model import LogisticRegression\n",
    "import flask\n",
    "from multiprocessing import Value\n",
    "import threading\n",
    "\n",
    "# create a unique host name for the pod \n",
    "host = socket.gethostbyname(socket.gethostname()) + \" - \" + str(random.randint(0, 1000000))\n",
    "\n",
    "# load GCP credentials and set up the Stackdriver monitor connection\n",
    "credentials = service_account.Credentials.from_service_account_file('serving.json')\n",
    "client = monitoring_v3.MetricServiceClient(credentials = credentials)\n",
    "project_name = client.project_path('serving-268422')\n",
    "\n",
    "# set up the Stackdriver logging connection\n",
    "logging_client = logging.Client(project = 'serving-268422', credentials = credentials)\n",
    "logger = logging_client.logger('model_service')\n",
    "logger.log_text(\"(\" + host + \") Launching model service\")\n",
    "\n",
    "# train a scikit-learn model \n",
    "df = pd.read_csv(\"https://github.com/bgweber/Twitch/raw/master/Recommendations/games-expand.csv\")\n",
    "model = LogisticRegression()\n",
    "model.fit(df.drop(['label'], axis=1), df['label'])\n",
    "\n",
    "# set up the app and a request tracker                 \n",
    "counter = Value('i', 0)\n",
    "app = flask.Flask(__name__)\n",
    "\n",
    "# define a function for writing metrics to Stackdriver  \n",
    "def write_metric_value(value):\n",
    "    series = monitoring_v3.types.TimeSeries()\n",
    "    series.metric.type = 'custom.googleapis.com/serving/requests'\n",
    "    series.metric.labels['ip'] = host\n",
    "    point = series.points.add()\n",
    "    point.value.double_value = value\n",
    "    now = time.time()\n",
    "    point.interval.end_time.seconds = int(now)\n",
    "    client.create_time_series(project_name, [series])\n",
    "\n",
    "# set up a callback for recording requests per minute to Stackdriver \n",
    "def log_requests():\n",
    "    threading.Timer(60.0, log_requests).start() \n",
    "\n",
    "    requests = 0\n",
    "    with counter.get_lock():\n",
    "        requests = counter.value\n",
    "        counter.value = 0        \n",
    "    \n",
    "    print(\"writing value: \" + str(requests))\n",
    "    write_metric_value(requests)\n",
    "\n",
    "# initiate the request per minute tracking \n",
    "log_requests()\n",
    "                \n",
    "# define the model endpoint \n",
    "@app.route(\"/\", methods=[\"GET\",\"POST\"])\n",
    "def predict():\n",
    "    try :\n",
    "                \n",
    "        # update the number of requests \n",
    "        with counter.get_lock():\n",
    "            counter.value += 1        \n",
    "        \n",
    "        data = {\"success\": False}\n",
    "\n",
    "        # check for passed in parameters   \n",
    "        params = flask.request.json\n",
    "        if params is None:\n",
    "            params = flask.request.args\n",
    "            \n",
    "        # get a model prediction \n",
    "        if \"G1\" in params.keys(): \n",
    "            new_row = { \"G1\": params.get(\"G1\"), \"G2\": params.get(\"G2\"), \n",
    "                        \"G3\": params.get(\"G3\"), \"G4\": params.get(\"G4\"), \n",
    "                        \"G5\": params.get(\"G5\"), \"G6\": params.get(\"G6\"), \n",
    "                        \"G7\": params.get(\"G7\"), \"G8\": params.get(\"G8\"), \n",
    "                        \"G9\": params.get(\"G9\"), \"G10\": params.get(\"G10\") }\n",
    "\n",
    "            new_x = pd.DataFrame.from_dict(new_row, orient = \"index\").transpose()                \n",
    "            data[\"response\"] = str(model.predict_proba(new_x)[0][1])\n",
    "            data[\"success\"] = True\n",
    "            \n",
    "        return flask.jsonify(data)\n",
    "    except:\n",
    "        \n",
    "        # log any invalid requests \n",
    "        logger.log_text(\"(\" + host + \") Error servicing request: \" + str(flask.request) + \" \" + str(params))\n",
    "        flask.abort(400)\n",
    "\n",
    "# let gunicorn manage the ports to use \n",
    "if __name__ == '__main__':\n",
    "    app.run(host='0.0.0.0')\n",
    "\n"
   ]
  },
  {
   "cell_type": "markdown",
   "metadata": {},
   "source": [
    "# Dockerfile"
   ]
  },
  {
   "cell_type": "code",
   "execution_count": null,
   "metadata": {},
   "outputs": [],
   "source": [
    "FROM ubuntu:latest\n",
    "MAINTAINER Ben Weber  \n",
    "\n",
    "RUN apt-get update \\  \n",
    "  && apt-get install -y python3-pip python3-dev \\  \n",
    "  && cd /usr/local/bin \\  \n",
    "  && ln -s /usr/bin/python3 python \n",
    "\n",
    "RUN pip3 install flask \n",
    "RUN pip3 install pandas \n",
    "RUN pip3 install gunicorn   \n",
    "RUN pip3 install scikit-learn \n",
    "RUN pip3 install google-cloud-logging \n",
    "RUN pip3 install google-cloud-monitoring \n",
    "  \n",
    "COPY serving.json serving.json\n",
    "COPY app.py app.py\n",
    "\n",
    "ENTRYPOINT [\"gunicorn\", \"--bind\", \"0.0.0.0\", \"app:app\"]"
   ]
  },
  {
   "cell_type": "markdown",
   "metadata": {},
   "source": [
    "# Stackdriver Monitoring"
   ]
  },
  {
   "cell_type": "code",
   "execution_count": 5,
   "metadata": {},
   "outputs": [],
   "source": [
    "\n",
    "# connect to the monitoring service \n",
    "from google.cloud import monitoring_v3\n",
    "from google.oauth2 import service_account\n",
    "import time\n",
    "\n",
    "credentials = service_account.Credentials.from_service_account_file('serving.json')\n",
    "client = monitoring_v3.MetricServiceClient(credentials = credentials)\n",
    "project_name = client.project_path('serving-268422')\n"
   ]
  },
  {
   "cell_type": "code",
   "execution_count": 6,
   "metadata": {},
   "outputs": [],
   "source": [
    "\n",
    "# create a custom metric\n",
    "descriptor = monitoring_v3.types.MetricDescriptor()\n",
    "descriptor.type = 'custom.googleapis.com/serving/requests' \n",
    "descriptor.metric_kind = (monitoring_v3.enums.MetricDescriptor.MetricKind.GAUGE)\n",
    "descriptor.value_type = (monitoring_v3.enums.MetricDescriptor.ValueType.DOUBLE)\n",
    "descriptor.description = 'Model serving requests.'\n"
   ]
  },
  {
   "cell_type": "code",
   "execution_count": null,
   "metadata": {},
   "outputs": [],
   "source": [
    "\n",
    "# record a data point to the custom metric \n",
    "series = monitoring_v3.types.TimeSeries()\n",
    "series.metric.type = 'custom.googleapis.com/serving/requests'\n",
    "series.metric.labels['ip'] = \"1.2.3.4\"\n",
    "point = series.points.add()\n",
    "point.value.double_value = 50\n",
    "now = time.time()\n",
    "point.interval.end_time.seconds = int(now)\n",
    "client.create_time_series(project_name, [series])\n"
   ]
  },
  {
   "cell_type": "markdown",
   "metadata": {},
   "source": [
    "# Stackdriver Logging"
   ]
  },
  {
   "cell_type": "code",
   "execution_count": null,
   "metadata": {},
   "outputs": [],
   "source": [
    "\n",
    "# connect to the monitoring service \n",
    "from google.cloud import logging\n",
    "\n",
    "logging_client = logging.Client(project = 'serving-268422', credentials = credentials)\n",
    "logger = logging_client.logger('model_service')\n"
   ]
  },
  {
   "cell_type": "code",
   "execution_count": null,
   "metadata": {},
   "outputs": [],
   "source": [
    "\n",
    "# log a message to stack driver \n",
    "logger.log_text('Hello World!')\n"
   ]
  },
  {
   "cell_type": "markdown",
   "metadata": {},
   "source": [
    "# Endpoint Testing"
   ]
  },
  {
   "cell_type": "code",
   "execution_count": 11,
   "metadata": {},
   "outputs": [
    {
     "name": "stdout",
     "output_type": "stream",
     "text": [
      "<Response [200]>\n",
      "{'response': '0.06730006696024816', 'success': True}\n"
     ]
    }
   ],
   "source": [
    "import requests\n",
    "\n",
    "result = requests.post(\"http://35.226.218.118/\", json = { 'G1':'1', 'G2':'0', 'G3':'0', 'G4':'0', 'G5':'0', \\\n",
    "                                                        'G6':'0', 'G7':'0', 'G8':'0', 'G9':'0', 'G10':'0'}) \n",
    "print(result)\n",
    "print(result.json())\n"
   ]
  }
 ],
 "metadata": {
  "kernelspec": {
   "display_name": "Python 3",
   "language": "python",
   "name": "python3"
  },
  "language_info": {
   "codemirror_mode": {
    "name": "ipython",
    "version": 3
   },
   "file_extension": ".py",
   "mimetype": "text/x-python",
   "name": "python",
   "nbconvert_exporter": "python",
   "pygments_lexer": "ipython3",
   "version": "3.8.1"
  }
 },
 "nbformat": 4,
 "nbformat_minor": 4
}
